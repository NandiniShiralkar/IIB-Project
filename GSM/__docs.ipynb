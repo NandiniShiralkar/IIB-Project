{
 "cells": [
  {
   "cell_type": "markdown",
   "metadata": {},
   "source": [
    "# Field of Gaussian Scale Mixtures"
   ]
  },
  {
   "cell_type": "markdown",
   "metadata": {},
   "source": [
    "Each Gabor-filtered image is represented as:\n",
    "\n",
    "\\begin{align}\n",
    "I(x, \\theta) &= g(x, \\theta) A(x)\n",
    "\\end{align}\n",
    "\n",
    "where $I(x, \\theta)$ is the filtered image at location $x$ and orientation $\\theta$, $g(x, \\theta)$ represents the feature fields, and $A(x)$ is the amplitude field at location $x$.\n",
    "\n",
    "\n",
    "The feature fields $g(x, \\theta)$ are modelled as a Gaussian Process (GP), characterised by a covariance function that depends on the orientation-location (ori-loc) pairs. Assuming a separable covariance function over orientation and location, we define:\n",
    "\n",
    "\\begin{align}\n",
    "C(\\theta_1, x_1; \\theta_2, x_2) &= f(\\theta_1; \\theta_2) h(x_1, x_2)\n",
    "\\end{align}\n",
    "\n",
    "with $h(x_1, x_2)$ as a squared-exponential kernel:\n",
    "\n",
    "\\begin{align}\n",
    "h(x_1, x_2) &= \\exp\\left(-\\frac{1}{2}\\frac{\\|x_1 - x_2\\|^2}{l^2}\\right)\n",
    "\\end{align}\n",
    "\n",
    "and $f(\\theta_1; \\theta_2)$ as a Von Mises kernel:\n",
    "\\begin{align}\n",
    "f(\\theta_1; \\theta_2) &= \\exp\\left(\\kappa \\cos\\left(\\frac{2\\pi(\\theta_1 - \\theta_2)}{180}\\right)\\right) \n",
    "\\end{align}\n",
    "\n",
    "The amplitude field $A(x)$ is assumed to be the exponential of a Gaussian Process:\n",
    "\n",
    "\\begin{align}\n",
    "A(x) &= \\exp(B(x))\n",
    "\\end{align}\n",
    "\n",
    "where $B(x)$ is a GP with its kernel defined as:\n",
    "\n",
    "\\begin{align}\n",
    "K(x_1 - x_2)\n",
    "\\end{align}"
   ]
  },
  {
   "cell_type": "markdown",
   "metadata": {},
   "source": [
    "# `FoGSMModel` Class Documentation\n",
    "\n",
    "## Overview\n",
    "\n",
    "The `FoGSMModel` class is designed for generating and visualising spatial feature fields using Gaussian Processes. \n",
    "\n",
    "### Constructor: `__init__(self, length_scale_feature, length_scale_amplitude, kappa, jitter=1e-5, grid_size=50)`\n",
    "\n",
    "Initialises a new instance of the `FoGSMModel` class.\n",
    "\n",
    "#### Parameters:\n",
    "\n",
    "- `length_scale_feature` (float): Length scale for the feature field kernel.\n",
    "- `length_scale_amplitude` (float): Length scale for the amplitude field kernel.\n",
    "- `kappa` (float): Concentration parameter for the von Mises kernel.\n",
    "- `jitter` (float, optional): Small value for numerical stability. Default is 1e-5.\n",
    "- `grid_size` (int, optional): Size of the grid for the feature and amplitude fields. Default is 50.\n",
    "\n",
    "#### Attributes:\n",
    "\n",
    "- `length_scale_feature`, `length_scale_amplitude`, `kappa`, `jitter`: Model parameters as described above.\n",
    "- `grid_size`: Size of the grid.\n",
    "- `grid` (torch.Tensor): A tensor representing the grid points.\n",
    "\n",
    "## Methods\n",
    "\n",
    "- `squared_exponential_kernel(self, x1, x2, length_scale)`: Computes the squared exponential kernel for given inputs.\n",
    "- `von_mises_kernel(self, theta1, theta2)`: Computes the von Mises kernel for given angular values.\n",
    "- `generate_feature_field(self, theta)`: Generates a feature field for a specified orientation.\n",
    "- `generate_amplitude_field(self)`: Generates an amplitude field independent of orientation.\n",
    "- `samples(self, thetas)`: Generates combined feature fields for a set of orientations.\n",
    "- `visualise(self, combined_fields)`: Visualises the combined feature fields.\n"
   ]
  }
 ],
 "metadata": {
  "language_info": {
   "name": "python"
  }
 },
 "nbformat": 4,
 "nbformat_minor": 2
}
